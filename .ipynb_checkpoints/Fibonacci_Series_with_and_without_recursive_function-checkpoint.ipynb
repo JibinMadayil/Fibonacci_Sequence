{
 "cells": [
  {
   "cell_type": "raw",
   "id": "1bfcad1a",
   "metadata": {},
   "source": []
  },
  {
   "cell_type": "markdown",
   "id": "b1d1c410",
   "metadata": {},
   "source": [
    "# Finding Fibonacci Series using recursive function"
   ]
  },
  {
   "cell_type": "code",
   "execution_count": null,
   "id": "ee92d379",
   "metadata": {
    "scrolled": true
   },
   "outputs": [
    {
     "name": "stdout",
     "output_type": "stream",
     "text": [
      "Enter a number:40\n"
     ]
    }
   ],
   "source": [
    "import time, matplotlib.pyplot as plt\n",
    "n=int(input(\"Enter a number:\"))\n",
    "\n",
    "def fib(n):    #defining a function\n",
    "    \n",
    "    if n in {0,1}:\n",
    "        return n\n",
    "    else:\n",
    "        return fib(n-1)+fib(n-2) # calling the same function\n",
    "    \n",
    "Fibonacci_list=[]\n",
    "Time_list=[]\n",
    "Sequence=[]\n",
    "\n",
    "for n in range(n):\n",
    "    start_time=time.time()\n",
    "    Fibonacci_list.append(fib(n)) #appending the series to the list\n",
    "    end_time=time.time()\n",
    "    total_time=end_time-start_time\n",
    "    Time_list.append(total_time)   #appending the time of number that is generated to the list\n",
    "    Sequence.append(n)\n",
    "    \n",
    "print(\"Fibonacci Series:\\n\", Fibonacci_list)\n",
    "print(\"Sequence for the series\\n\",Sequence)\n",
    "print(\"Time taken to generate each Fibonacci number:\\n\", Time_list)\n",
    "\n",
    "plt.title(\"Time taken to generate each number in the Fibonacci Series \")\n",
    "plt.plot(Sequence, Time_list, marker=\"o\", markerfacecolor='red') # ploting the graph using Matplotlib package\n",
    "plt.xlabel('Fibonacci Series') \n",
    "plt.ylabel('Time Taken')\n",
    "plt.show()\n",
    "\n"
   ]
  },
  {
   "cell_type": "raw",
   "id": "c8862326",
   "metadata": {},
   "source": []
  },
  {
   "cell_type": "markdown",
   "id": "180e9098",
   "metadata": {},
   "source": [
    "# Finding Fibonacci Series without recursive function"
   ]
  },
  {
   "cell_type": "code",
   "execution_count": null,
   "id": "59bc78ce",
   "metadata": {},
   "outputs": [],
   "source": [
    "import time, matplotlib.pyplot as plt\n",
    "\n",
    "def fib_(n):\n",
    "    fib_list = [0,1]\n",
    "    i=2\n",
    "    while i<=n:\n",
    "        fib_list.append(fib_list[i-1]+fib_list[i-2]) #using the index number we're calculating the series\n",
    "        i+=1 \n",
    "    return fib_list[n] #returns the last number of the series\n",
    "\n",
    "n=int(input(\"Enter number of terms:\"))\n",
    "\n",
    "\n",
    "fibonacci_list=[]\n",
    "time_list=[] \n",
    "sequence=[]\n",
    "\n",
    "\n",
    "for n in range(n+1):\n",
    "    start=time.time()\n",
    "    fibonacci_list.append(fib_(n)) #using for loop we're appending the numbers into the list\n",
    "    end=time.time()\n",
    "    total=end-start\n",
    "    time_list.append(total) #appending the time of number that is generated to the list\n",
    "    sequence.append(n)\n",
    "    \n",
    "print(\"Fibonacci Series:\\n\", fibonacci_list)\n",
    "print(\"Sequence for the series\\n\",sequence)\n",
    "print(\"Time taken to generate each Fibonacci number:\\n\", time_list)\n",
    "\n",
    "plt.title(\"Time taken to generate each number in the Fibonacci Series \")\n",
    "plt.plot(sequence, time_list, marker=\"o\", markerfacecolor='red') # ploting the graph using Matplotlib package\n",
    "plt.xlabel('Fibonacci Series') \n",
    "plt.ylabel('Time Taken')\n",
    "plt.show()"
   ]
  },
  {
   "cell_type": "code",
   "execution_count": null,
   "id": "c114a42e",
   "metadata": {},
   "outputs": [],
   "source": []
  },
  {
   "cell_type": "code",
   "execution_count": 1,
   "id": "b79ec0f3",
   "metadata": {
    "scrolled": true
   },
   "outputs": [
    {
     "ename": "NameError",
     "evalue": "name 'plt' is not defined",
     "output_type": "error",
     "traceback": [
      "\u001b[1;31m---------------------------------------------------------------------------\u001b[0m",
      "\u001b[1;31mNameError\u001b[0m                                 Traceback (most recent call last)",
      "\u001b[1;32m~\\AppData\\Local\\Temp\\ipykernel_32520\\387203093.py\u001b[0m in \u001b[0;36m<module>\u001b[1;34m\u001b[0m\n\u001b[1;32m----> 1\u001b[1;33m \u001b[0mplt\u001b[0m\u001b[1;33m.\u001b[0m\u001b[0mtitle\u001b[0m\u001b[1;33m(\u001b[0m\u001b[1;34m\"Time taken to generate each number in the Fibonacci Series \"\u001b[0m\u001b[1;33m)\u001b[0m\u001b[1;33m\u001b[0m\u001b[1;33m\u001b[0m\u001b[0m\n\u001b[0m\u001b[0;32m      2\u001b[0m \u001b[0mplt\u001b[0m\u001b[1;33m.\u001b[0m\u001b[0mplot\u001b[0m\u001b[1;33m(\u001b[0m\u001b[0mSequence\u001b[0m\u001b[1;33m,\u001b[0m \u001b[0mTime_list\u001b[0m\u001b[1;33m,\u001b[0m \u001b[0mmarker\u001b[0m\u001b[1;33m=\u001b[0m\u001b[1;34m\"o\"\u001b[0m\u001b[1;33m,\u001b[0m \u001b[0mmarkerfacecolor\u001b[0m\u001b[1;33m=\u001b[0m\u001b[1;34m'red'\u001b[0m\u001b[1;33m,\u001b[0m \u001b[0mlabel\u001b[0m\u001b[1;33m=\u001b[0m\u001b[1;34m\"Recursive funtion\"\u001b[0m\u001b[1;33m)\u001b[0m \u001b[1;31m# ploting the graph using Matplotlib package\u001b[0m\u001b[1;33m\u001b[0m\u001b[1;33m\u001b[0m\u001b[0m\n\u001b[0;32m      3\u001b[0m \u001b[0mplt\u001b[0m\u001b[1;33m.\u001b[0m\u001b[0mplot\u001b[0m\u001b[1;33m(\u001b[0m\u001b[0msequence\u001b[0m\u001b[1;33m,\u001b[0m \u001b[0mtime_list\u001b[0m\u001b[1;33m,\u001b[0m \u001b[0mmarker\u001b[0m\u001b[1;33m=\u001b[0m\u001b[1;34m\"o\"\u001b[0m\u001b[1;33m,\u001b[0m \u001b[0mmarkerfacecolor\u001b[0m\u001b[1;33m=\u001b[0m\u001b[1;34m'black'\u001b[0m\u001b[1;33m,\u001b[0m\u001b[0mlabel\u001b[0m\u001b[1;33m=\u001b[0m\u001b[1;34m\"Non-recursive funtion('Iterative')\"\u001b[0m\u001b[1;33m)\u001b[0m \u001b[1;31m# ploting the graph using Matplotlib package\u001b[0m\u001b[1;33m\u001b[0m\u001b[1;33m\u001b[0m\u001b[0m\n\u001b[0;32m      4\u001b[0m \u001b[0mplt\u001b[0m\u001b[1;33m.\u001b[0m\u001b[0mxlabel\u001b[0m\u001b[1;33m(\u001b[0m\u001b[1;34m'Fibonacci Series'\u001b[0m\u001b[1;33m)\u001b[0m\u001b[1;33m\u001b[0m\u001b[1;33m\u001b[0m\u001b[0m\n\u001b[0;32m      5\u001b[0m \u001b[0mplt\u001b[0m\u001b[1;33m.\u001b[0m\u001b[0mylabel\u001b[0m\u001b[1;33m(\u001b[0m\u001b[1;34m'Time Taken'\u001b[0m\u001b[1;33m)\u001b[0m\u001b[1;33m\u001b[0m\u001b[1;33m\u001b[0m\u001b[0m\n",
      "\u001b[1;31mNameError\u001b[0m: name 'plt' is not defined"
     ]
    }
   ],
   "source": [
    "plt.title(\"Time taken to generate each number in the Fibonacci Series \")\n",
    "plt.plot(Sequence, Time_list, marker=\"o\", markerfacecolor='red', label=\"Recursive funtion\") # ploting the graph using Matplotlib package\n",
    "plt.plot(sequence, time_list, marker=\"o\", markerfacecolor='black',label=\"Non-recursive funtion('Iterative')\") # ploting the graph using Matplotlib package\n",
    "plt.xlabel('Fibonacci Series') \n",
    "plt.ylabel('Time Taken')\n",
    "plt.legend()\n",
    "plt.show()\n"
   ]
  },
  {
   "cell_type": "markdown",
   "id": "f1d30394",
   "metadata": {},
   "source": [
    "In the above graph we can see that the time taken to generate the fibonacci series by the recursive function is greater than the time taken by the Non-recursive(Iterative) function. A program is called recursive when an entity calls itself. A program is call iterative when there is a loop. Non-recursive method is efficient in time parameter when compared with recursive method."
   ]
  }
 ],
 "metadata": {
  "kernelspec": {
   "display_name": "Python 3 (ipykernel)",
   "language": "python",
   "name": "python3"
  },
  "language_info": {
   "codemirror_mode": {
    "name": "ipython",
    "version": 3
   },
   "file_extension": ".py",
   "mimetype": "text/x-python",
   "name": "python",
   "nbconvert_exporter": "python",
   "pygments_lexer": "ipython3",
   "version": "3.9.13"
  }
 },
 "nbformat": 4,
 "nbformat_minor": 5
}
